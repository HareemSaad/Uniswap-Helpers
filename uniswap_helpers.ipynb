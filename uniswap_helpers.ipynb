{
 "cells": [
  {
   "cell_type": "markdown",
   "metadata": {},
   "source": []
  },
  {
   "cell_type": "markdown",
   "metadata": {},
   "source": [
    "# Uniswap Helper Functions (Calculations)"
   ]
  },
  {
   "cell_type": "code",
   "execution_count": 1,
   "metadata": {},
   "outputs": [],
   "source": [
    "import math\n",
    "q96 = 2 ** 96"
   ]
  },
  {
   "cell_type": "markdown",
   "metadata": {},
   "source": [
    "## Square root price x96"
   ]
  },
  {
   "cell_type": "code",
   "execution_count": 2,
   "metadata": {},
   "outputs": [
    {
     "data": {
      "text/plain": [
       "1771595571142957166518320255467520"
      ]
     },
     "execution_count": 2,
     "metadata": {},
     "output_type": "execute_result"
    }
   ],
   "source": [
    "def price_to_sqrtPrice(price_of_token0, price_of_token1, decimals_of_token0, decimals_of_token1):\n",
    "    adj_p = (price_of_token1 / price_of_token0) * (10 ** decimals_of_token1 / 10 ** decimals_of_token0)\n",
    "    return int(math.sqrt(adj_p) * q96)\n",
    "\n",
    "price_to_sqrtPrice(2000,1,6,18)"
   ]
  },
  {
   "cell_type": "code",
   "execution_count": 4,
   "metadata": {},
   "outputs": [
    {
     "name": "stdout",
     "output_type": "stream",
     "text": [
      "0.0005\n"
     ]
    }
   ],
   "source": [
    "def sqrtPrice_to_price(sqrtPriceX96, decimals_of_token0, decimals_of_token1):\n",
    "  return ((sqrtPriceX96/q96) ** 2) * (10 ** decimals_of_token0 / 10 ** decimals_of_token1)\n",
    "\n",
    "p = sqrtPrice_to_price(1771595571142957166518320255467520, 6, 18)\n",
    "print(p)"
   ]
  },
  {
   "cell_type": "markdown",
   "metadata": {},
   "source": [
    "## Tick Calculation"
   ]
  },
  {
   "cell_type": "code",
   "execution_count": 7,
   "metadata": {},
   "outputs": [
    {
     "name": "stdout",
     "output_type": "stream",
     "text": [
      "0.0004999899277897779\n"
     ]
    }
   ],
   "source": [
    "def tick_to_price_in_terms_of_token0(tick, decimals_of_token0, decimals_of_token1):\n",
    "    price = math.pow(1.0001, tick)\n",
    "    return (price / (10 ** decimals_of_token1 / 10 ** decimals_of_token0))\n",
    "\n",
    "tick = 200311\n",
    "print((tick_to_price_in_terms_of_token0(tick, 6, 18)))"
   ]
  },
  {
   "cell_type": "code",
   "execution_count": 9,
   "metadata": {},
   "outputs": [
    {
     "name": "stdout",
     "output_type": "stream",
     "text": [
      "200311\n"
     ]
    }
   ],
   "source": [
    "def price_to_tick(price_of_token0, price_of_token1, decimals_of_token0, decimals_of_token1):\n",
    "    p = price_of_token1 / price_of_token0\n",
    "    adj_p = p * (10 ** decimals_of_token1/ 10 ** decimals_of_token0)\n",
    "    return math.floor(math.log(adj_p, 1.0001))\n",
    "\n",
    "c = price_to_tick(2000, 1, 6, 18)\n",
    "print(c)"
   ]
  }
 ],
 "metadata": {
  "kernelspec": {
   "display_name": "Python 3",
   "language": "python",
   "name": "python3"
  },
  "language_info": {
   "codemirror_mode": {
    "name": "ipython",
    "version": 3
   },
   "file_extension": ".py",
   "mimetype": "text/x-python",
   "name": "python",
   "nbconvert_exporter": "python",
   "pygments_lexer": "ipython3",
   "version": "3.10.12"
  },
  "orig_nbformat": 4
 },
 "nbformat": 4,
 "nbformat_minor": 2
}
